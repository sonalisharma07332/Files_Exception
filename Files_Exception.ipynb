{
 "cells": [
  {
   "cell_type": "markdown",
   "id": "5228d560",
   "metadata": {},
   "source": [
    " 1.How can you open a file for writing in Python and write a string to it?"
   ]
  },
  {
   "cell_type": "code",
   "execution_count": 2,
   "id": "f6e4de87",
   "metadata": {},
   "outputs": [
    {
     "name": "stdout",
     "output_type": "stream",
     "text": [
      "File written successfully!\n"
     ]
    }
   ],
   "source": [
    "# Open a file in write mode and write text using 'w' mode.\n",
    "with open(\"exampleWrite.txt\", \"w\") as file:\n",
    "    file.write(\"Hello, this is a sample file content.\")\n",
    "print(\"File written successfully!\")\n"
   ]
  },
  {
   "cell_type": "markdown",
   "id": "69e2b30c",
   "metadata": {},
   "source": [
    "2. Write a Python program to read the contents of a file and print each line."
   ]
  },
  {
   "cell_type": "code",
   "execution_count": 6,
   "id": "e19e599e",
   "metadata": {},
   "outputs": [
    {
     "name": "stdout",
     "output_type": "stream",
     "text": [
      "Diwali, also known as the Festival of Lights, will be celebrated on 21st October 2025 with great joy and enthusiasm.\n",
      "It marks the victory of light over darkness and good over evil.\n",
      "People decorate their homes with diyas, candles, and colorful rangolis.\n",
      "Families exchange sweets, gifts, and share happiness with loved ones.\n",
      "On this day, Lord Ramaâ€™s return to Ayodhya is remembered, and Goddess Lakshmi is worshipped for wealth and prosperity.\n",
      "Diwali brings unity, positivity, and a spirit of togetherness among all.\n"
     ]
    }
   ],
   "source": [
    "with open(\"example.txt\", \"r\") as file:\n",
    "    for line in file:\n",
    "        print(line.strip())\n"
   ]
  },
  {
   "cell_type": "markdown",
   "id": "f651164a",
   "metadata": {},
   "source": [
    "3. How would you handle a case where the file doesn't exist while trying to open it for reading?"
   ]
  },
  {
   "cell_type": "code",
   "execution_count": null,
   "id": "f3954117",
   "metadata": {},
   "outputs": [
    {
     "name": "stdout",
     "output_type": "stream",
     "text": [
      "Error: File does not exist.\n"
     ]
    }
   ],
   "source": [
    "try:\n",
    "    with open(\"missing.txt\", \"r\") as file:\n",
    "        print(file.read())\n",
    "except FileNotFoundError:\n",
    "    print(\"Error: File does not exist.\")"
   ]
  },
  {
   "cell_type": "markdown",
   "id": "e21359c2",
   "metadata": {},
   "source": [
    "4.  Write a Python script that reads from one file and writes its content to another file."
   ]
  },
  {
   "cell_type": "code",
   "execution_count": null,
   "id": "2b872109",
   "metadata": {},
   "outputs": [
    {
     "name": "stdout",
     "output_type": "stream",
     "text": [
      "File copied successfully!\n"
     ]
    }
   ],
   "source": [
    "with open(\"exampleWrite.txt\", \"r\") as src, open(\"example.txt\", \"w\") as dest:\n",
    "    dest.write(src.read())\n",
    "print(\"File copied successfully!\")"
   ]
  },
  {
   "cell_type": "markdown",
   "id": "e64308d5",
   "metadata": {},
   "source": [
    "5.How would you catch and handle division by zero error in Python?"
   ]
  },
  {
   "cell_type": "code",
   "execution_count": 9,
   "id": "997a4630",
   "metadata": {},
   "outputs": [
    {
     "name": "stdout",
     "output_type": "stream",
     "text": [
      "2.0\n"
     ]
    }
   ],
   "source": [
    "try:\n",
    "    a = int(input(\"Enter a number: \"))\n",
    "    result = 10 / a\n",
    "    print(result)\n",
    "except ZeroDivisionError:\n",
    "    print(\"Error: Cannot divide by zero.\")\n"
   ]
  },
  {
   "cell_type": "code",
   "execution_count": 13,
   "id": "c7d4937c",
   "metadata": {},
   "outputs": [
    {
     "name": "stdout",
     "output_type": "stream",
     "text": [
      "Error: Cannot divide by zero.\n"
     ]
    }
   ],
   "source": [
    "try:\n",
    "    a = int(input(\"Enter a number: \"))\n",
    "    result = 10 / a\n",
    "    print(result)\n",
    "except ZeroDivisionError:\n",
    "    print(\"Error: Cannot divide by zero.\")"
   ]
  },
  {
   "cell_type": "markdown",
   "id": "446e5cc5",
   "metadata": {},
   "source": [
    "6. Write a Python program that logs an error message to a log file when a division by zero exception occurs."
   ]
  },
  {
   "cell_type": "code",
   "execution_count": 14,
   "id": "e3b14ea4",
   "metadata": {},
   "outputs": [
    {
     "name": "stdout",
     "output_type": "stream",
     "text": [
      "Error logged to file.\n"
     ]
    }
   ],
   "source": [
    "import logging\n",
    "\n",
    "logging.basicConfig(filename=\"error.log\", level=logging.ERROR)\n",
    "\n",
    "try:\n",
    "    x = 10 / 0\n",
    "except ZeroDivisionError:\n",
    "    logging.error(\"Division by zero error occurred.\")\n",
    "    print(\"Error logged to file.\")\n"
   ]
  },
  {
   "cell_type": "markdown",
   "id": "6618482c",
   "metadata": {},
   "source": [
    "7. How do you log information at different levels (INFO, ERROR, WARNING) in Python using the logging module?"
   ]
  },
  {
   "cell_type": "code",
   "execution_count": 18,
   "id": "7d567123",
   "metadata": {},
   "outputs": [],
   "source": [
    "import logging\n",
    "\n",
    "logging.basicConfig(filename=\"app.log\", level=logging.DEBUG)\n",
    "\n",
    "logging.info(\"Program started\")\n",
    "logging.warning(\"Low disk space warning\")\n",
    "logging.error(\"File not found error\")\n",
    "logging.debug(\"Debugging variable x=10\")\n"
   ]
  },
  {
   "cell_type": "markdown",
   "id": "ef18987e",
   "metadata": {},
   "source": [
    "8. Write a program to handle a file opening error using exception handling."
   ]
  },
  {
   "cell_type": "code",
   "execution_count": 25,
   "id": "7f54d82f",
   "metadata": {},
   "outputs": [
    {
     "name": "stdout",
     "output_type": "stream",
     "text": [
      "Error opening file.\n"
     ]
    }
   ],
   "source": [
    "try:\n",
    "    f = open(\"data.txt\", \"r\")\n",
    "    print(f.read())\n",
    "    f.close()\n",
    "except IOError:\n",
    "    print(\"Error opening file.\")"
   ]
  },
  {
   "cell_type": "code",
   "execution_count": 27,
   "id": "9ef0358c",
   "metadata": {},
   "outputs": [
    {
     "name": "stdout",
     "output_type": "stream",
     "text": [
      "Hello, this is a sample file content.\n"
     ]
    }
   ],
   "source": [
    "try:\n",
    "    f = open(\"exampleWrite.txt\", \"r\")\n",
    "    print(f.read())\n",
    "    f.close()\n",
    "except IOError:\n",
    "    print(\"Error opening file.\")"
   ]
  },
  {
   "cell_type": "markdown",
   "id": "a80747ce",
   "metadata": {},
   "source": [
    "9. How can you read a file line by line and store its content in a list in Python."
   ]
  },
  {
   "cell_type": "code",
   "execution_count": 30,
   "id": "0f92d47c",
   "metadata": {},
   "outputs": [
    {
     "name": "stdout",
     "output_type": "stream",
     "text": [
      "['Hello, this is a sample file content.']\n"
     ]
    }
   ],
   "source": [
    "with open(\"exampleWrite.txt\", \"r\") as f:\n",
    "    lines = f.readlines()\n",
    "print(lines)"
   ]
  },
  {
   "cell_type": "markdown",
   "id": "f6bad073",
   "metadata": {},
   "source": [
    "10. How can you append data to an existing file in Python?"
   ]
  },
  {
   "cell_type": "code",
   "execution_count": 31,
   "id": "e1a3e62d",
   "metadata": {},
   "outputs": [
    {
     "name": "stdout",
     "output_type": "stream",
     "text": [
      "Data appended successfully!\n"
     ]
    }
   ],
   "source": [
    "with open(\"example.txt\", \"a\") as f:\n",
    "    f.write(\"\\nThis is appended text.\")\n",
    "print(\"Data appended successfully!\")"
   ]
  },
  {
   "cell_type": "markdown",
   "id": "a1eee983",
   "metadata": {},
   "source": [
    "11. Write a Python program that uses a try-except block to handle an error when attempting to access a \n",
    "dictionary key that doesn't exist."
   ]
  },
  {
   "cell_type": "code",
   "execution_count": 33,
   "id": "2427d5b2",
   "metadata": {},
   "outputs": [
    {
     "name": "stdout",
     "output_type": "stream",
     "text": [
      "Key not found in dictionary.\n"
     ]
    }
   ],
   "source": [
    "data = {\"name\": \"Sonali\", \"age\": 20}\n",
    "\n",
    "try:\n",
    "    print(data[\"address\"])\n",
    "except KeyError:\n",
    "    print(\"Key not found in dictionary.\")\n"
   ]
  },
  {
   "cell_type": "code",
   "execution_count": 34,
   "id": "8d759a8e",
   "metadata": {},
   "outputs": [
    {
     "name": "stdout",
     "output_type": "stream",
     "text": [
      "Sonali\n"
     ]
    }
   ],
   "source": [
    "data = {\"name\": \"Sonali\", \"age\": 20}\n",
    "\n",
    "try:\n",
    "    print(data[\"name\"])\n",
    "except KeyError:\n",
    "    print(\"Key not found in dictionary.\")\n"
   ]
  },
  {
   "cell_type": "markdown",
   "id": "1b3ab602",
   "metadata": {},
   "source": [
    "12. Write a program that demonstrates using multiple except blocks to handle different types of exceptions."
   ]
  },
  {
   "cell_type": "code",
   "execution_count": 35,
   "id": "16c7e806",
   "metadata": {},
   "outputs": [
    {
     "name": "stdout",
     "output_type": "stream",
     "text": [
      "Invalid input!\n"
     ]
    }
   ],
   "source": [
    "try:\n",
    "    x = int(input(\"Enter a number: \"))\n",
    "    y = 10 / x\n",
    "    print(y)\n",
    "except ValueError:\n",
    "    print(\"Invalid input!\")\n",
    "except ZeroDivisionError:\n",
    "    print(\"Cannot divide by zero.\")\n"
   ]
  },
  {
   "cell_type": "code",
   "execution_count": 36,
   "id": "6901baf9",
   "metadata": {},
   "outputs": [
    {
     "name": "stdout",
     "output_type": "stream",
     "text": [
      "Cannot divide by zero.\n"
     ]
    }
   ],
   "source": [
    "try:\n",
    "    x = int(input(\"Enter a number: \"))\n",
    "    y = 10 / x\n",
    "    print(y)\n",
    "except ValueError:\n",
    "    print(\"Invalid input!\")\n",
    "except ZeroDivisionError:\n",
    "    print(\"Cannot divide by zero.\")\n"
   ]
  },
  {
   "cell_type": "code",
   "execution_count": 37,
   "id": "d28116a5",
   "metadata": {},
   "outputs": [
    {
     "name": "stdout",
     "output_type": "stream",
     "text": [
      "2.0\n"
     ]
    }
   ],
   "source": [
    "try:\n",
    "    x = int(input(\"Enter a number: \"))\n",
    "    y = 10 / x\n",
    "    print(y)\n",
    "except ValueError:\n",
    "    print(\"Invalid input!\")\n",
    "except ZeroDivisionError:\n",
    "    print(\"Cannot divide by zero.\")\n"
   ]
  },
  {
   "cell_type": "markdown",
   "id": "12d37a0b",
   "metadata": {},
   "source": [
    "13. How would you check if a file exists before attempting to read it in Python?"
   ]
  },
  {
   "cell_type": "code",
   "execution_count": null,
   "id": "01377875",
   "metadata": {},
   "outputs": [
    {
     "name": "stdout",
     "output_type": "stream",
     "text": [
      "Diwali, also known as the Festival of Lights, will be celebrated on 21st October 2025 with great joy and enthusiasm.\n",
      "It marks the victory of light over darkness and good over evil. \n",
      "People decorate their homes with diyas, candles, and colorful rangolis. \n",
      "Families exchange sweets, gifts, and share happiness with loved ones. \n",
      "On this day, Lord Ramaâ€™s return to Ayodhya is remembered, and Goddess Lakshmi is worshipped for wealth and prosperity. \n",
      "Diwali brings unity, positivity, and a spirit of togetherness among all.\n",
      "This is appended text.\n"
     ]
    }
   ],
   "source": [
    "import os\n",
    "\n",
    "filename = \"example.txt\"\n",
    "\n",
    "if os.path.exists(filename):\n",
    "    with open(filename, \"r\") as f:\n",
    "        print(f.read())\n",
    "else:\n",
    "    print(\"File not found.\")"
   ]
  },
  {
   "cell_type": "code",
   "execution_count": 39,
   "id": "4dd8971d",
   "metadata": {},
   "outputs": [
    {
     "name": "stdout",
     "output_type": "stream",
     "text": [
      "File not found.\n"
     ]
    }
   ],
   "source": [
    "import os\n",
    "\n",
    "filename = \"data.txt\"\n",
    "\n",
    "if os.path.exists(filename):\n",
    "    with open(filename, \"r\") as f:\n",
    "        print(f.read())\n",
    "else:\n",
    "    print(\"File not found.\")"
   ]
  },
  {
   "cell_type": "markdown",
   "id": "ebe04d57",
   "metadata": {},
   "source": [
    "14. Write a program that uses the logging module to log both informational and error messages."
   ]
  },
  {
   "cell_type": "code",
   "execution_count": 40,
   "id": "4e96841f",
   "metadata": {},
   "outputs": [
    {
     "name": "stderr",
     "output_type": "stream",
     "text": [
      "Division by zero error.\n",
      "Division by zero error.\n",
      "2025-10-16 22:18:43,261 - ERROR - Division by zero error.\n",
      "Division by zero error.\n"
     ]
    }
   ],
   "source": [
    "import logging\n",
    "\n",
    "logging.basicConfig(filename=\"system.log\", level=logging.INFO)\n",
    "\n",
    "logging.info(\"Program started successfully.\")\n",
    "try:\n",
    "    result = 10 / 0\n",
    "except ZeroDivisionError:\n",
    "    logging.error(\"Division by zero error.\")\n"
   ]
  },
  {
   "cell_type": "markdown",
   "id": "857c2d3c",
   "metadata": {},
   "source": [
    "15. Write a Python program that prints the content of a file and handles the case when the file is empty."
   ]
  },
  {
   "cell_type": "code",
   "execution_count": 1,
   "id": "137601a0",
   "metadata": {},
   "outputs": [
    {
     "name": "stdout",
     "output_type": "stream",
     "text": [
      "Diwali, also known as the Festival of Lights, will be celebrated on 21st October 2025 with great joy and enthusiasm.\n",
      "It marks the victory of light over darkness and good over evil. \n",
      "People decorate their homes with diyas, candles, and colorful rangolis. \n",
      "Families exchange sweets, gifts, and share happiness with loved ones. \n",
      "On this day, Lord Ramaâ€™s return to Ayodhya is remembered, and Goddess Lakshmi is worshipped for wealth and prosperity. \n",
      "Diwali brings unity, positivity, and a spirit of togetherness among all.\n",
      "This is appended text.\n"
     ]
    }
   ],
   "source": [
    "filename = \"example.txt\"\n",
    "\n",
    "with open(filename, \"r\") as f:\n",
    "    content = f.read()\n",
    "    if not content:\n",
    "        print(\"The file is empty.\")\n",
    "    else:\n",
    "        print(content)\n"
   ]
  },
  {
   "cell_type": "code",
   "execution_count": 2,
   "id": "7d6bfa5a",
   "metadata": {},
   "outputs": [
    {
     "name": "stdout",
     "output_type": "stream",
     "text": [
      "The file is empty.\n"
     ]
    }
   ],
   "source": [
    "filename = \"empty.txt\"\n",
    "\n",
    "with open(filename, \"r\") as f:\n",
    "    content = f.read()\n",
    "    if not content:\n",
    "        print(\"The file is empty.\")\n",
    "    else:\n",
    "        print(content)\n"
   ]
  },
  {
   "cell_type": "markdown",
   "id": "e3359565",
   "metadata": {},
   "source": [
    "16. Demonstrate how to use memory profiling to check the memory usage of a small program."
   ]
  },
  {
   "cell_type": "code",
   "execution_count": null,
   "id": "0ced1442",
   "metadata": {},
   "outputs": [
    {
     "name": "stderr",
     "output_type": "stream",
     "text": [
      "'pip' is not recognized as an internal or external command,\n",
      "operable program or batch file.\n"
     ]
    },
    {
     "ename": "ModuleNotFoundError",
     "evalue": "No module named 'memory_profiler'",
     "output_type": "error",
     "traceback": [
      "\u001b[31m---------------------------------------------------------------------------\u001b[39m",
      "\u001b[31mModuleNotFoundError\u001b[39m                       Traceback (most recent call last)",
      "\u001b[36mCell\u001b[39m\u001b[36m \u001b[39m\u001b[32mIn[5]\u001b[39m\u001b[32m, line 4\u001b[39m\n\u001b[32m      1\u001b[39m \u001b[38;5;66;03m# Install memory_profiler first: pip install memory-profiler\u001b[39;00m\n\u001b[32m      2\u001b[39m get_ipython().system(\u001b[33m'\u001b[39m\u001b[33mpip install memory-profiler\u001b[39m\u001b[33m'\u001b[39m)\n\u001b[32m----> \u001b[39m\u001b[32m4\u001b[39m \u001b[38;5;28;01mfrom\u001b[39;00m\u001b[38;5;250m \u001b[39m\u001b[34;01mmemory_profiler\u001b[39;00m\u001b[38;5;250m \u001b[39m\u001b[38;5;28;01mimport\u001b[39;00m profile\n\u001b[32m      6\u001b[39m \u001b[38;5;129m@profile\u001b[39m\n\u001b[32m      7\u001b[39m \u001b[38;5;28;01mdef\u001b[39;00m\u001b[38;5;250m \u001b[39m\u001b[34mmy_func\u001b[39m():\n\u001b[32m      8\u001b[39m     nums = [x \u001b[38;5;28;01mfor\u001b[39;00m x \u001b[38;5;129;01min\u001b[39;00m \u001b[38;5;28mrange\u001b[39m(\u001b[32m100000\u001b[39m)]\n",
      "\u001b[31mModuleNotFoundError\u001b[39m: No module named 'memory_profiler'"
     ]
    }
   ],
   "source": [
    "# Install memory_profiler first: pip install memory-profiler\n",
    "from memory_profiler import profile\n",
    "\n",
    "@profile\n",
    "def my_func():\n",
    "    nums = [x for x in range(100000)]\n",
    "    print(\"Sum:\", sum(nums))\n",
    "\n",
    "my_func()\n"
   ]
  },
  {
   "cell_type": "markdown",
   "id": "de0e01f9",
   "metadata": {},
   "source": [
    "17. Write a Python program to create and write a list of numbers to a file, one number per line."
   ]
  },
  {
   "cell_type": "code",
   "execution_count": 8,
   "id": "c8e197b6",
   "metadata": {},
   "outputs": [
    {
     "name": "stdout",
     "output_type": "stream",
     "text": [
      "Numbers written successfully.\n"
     ]
    }
   ],
   "source": [
    "numbers = [10, 20, 30, 40, 50]\n",
    "\n",
    "with open(\"empty.txt\", \"w\") as f:\n",
    "    for n in numbers:\n",
    "        f.write(str(n) + \"\\n\")\n",
    "print(\"Numbers written successfully.\")\n"
   ]
  },
  {
   "cell_type": "markdown",
   "id": "6ad351bd",
   "metadata": {},
   "source": [
    "18. How would you implement a basic logging setup that logs to a file with rotation after 1MB ?"
   ]
  },
  {
   "cell_type": "code",
   "execution_count": 10,
   "id": "e0c0f874",
   "metadata": {},
   "outputs": [],
   "source": [
    "import logging\n",
    "from logging.handlers import RotatingFileHandler\n",
    "\n",
    "handler = RotatingFileHandler(\"rotating.log\", maxBytes=1_000_000, backupCount=3)\n",
    "logging.basicConfig(handlers=[handler], level=logging.INFO)\n",
    "\n",
    "for i in range(10000):\n",
    "    logging.info(f\"Log message {i}\")\n"
   ]
  },
  {
   "cell_type": "markdown",
   "id": "e652be7c",
   "metadata": {},
   "source": [
    "19. Write a program that handles both IndexError and KeyError using a try-except block."
   ]
  },
  {
   "cell_type": "code",
   "execution_count": 13,
   "id": "a21bf378",
   "metadata": {},
   "outputs": [
    {
     "name": "stdout",
     "output_type": "stream",
     "text": [
      "Error occurred: list index out of range\n"
     ]
    }
   ],
   "source": [
    "try:\n",
    "    lst = [1, 2, 3]\n",
    "    print(lst[5])  # IndexError\n",
    "    data = {\"name\": \"Sonali\"}\n",
    "    print(data[\"age\"])  # KeyError\n",
    "except (IndexError, KeyError) as e:\n",
    "    print(f\"Error occurred: {e}\")"
   ]
  },
  {
   "cell_type": "markdown",
   "id": "b17bc7b7",
   "metadata": {},
   "source": [
    "20. How would you open a file and read its contents using a context manager in Python?"
   ]
  },
  {
   "cell_type": "code",
   "execution_count": 15,
   "id": "da88545f",
   "metadata": {},
   "outputs": [
    {
     "name": "stdout",
     "output_type": "stream",
     "text": [
      "Diwali, also known as the Festival of Lights, will be celebrated on 21st October 2025 with great joy and enthusiasm.\n",
      "It marks the victory of light over darkness and good over evil. \n",
      "People decorate their homes with diyas, candles, and colorful rangolis. \n",
      "Families exchange sweets, gifts, and share happiness with loved ones. \n",
      "On this day, Lord Ramaâ€™s return to Ayodhya is remembered, and Goddess Lakshmi is worshipped for wealth and prosperity. \n",
      "Diwali brings unity, positivity, and a spirit of togetherness among all.\n",
      "This is appended text.\n"
     ]
    }
   ],
   "source": [
    "with open(\"example.txt\", \"r\") as f:\n",
    "    content = f.read()\n",
    "    print(content)\n"
   ]
  },
  {
   "cell_type": "markdown",
   "id": "69bea829",
   "metadata": {},
   "source": [
    "21. Write a Python program that reads a file and prints the number of occurrences of a specific word."
   ]
  },
  {
   "cell_type": "code",
   "execution_count": 17,
   "id": "ec73bfb4",
   "metadata": {},
   "outputs": [
    {
     "name": "stdout",
     "output_type": "stream",
     "text": [
      "The word 'Diwali' occurs 2 times.\n"
     ]
    }
   ],
   "source": [
    "word = \"Diwali\"\n",
    "count = 0\n",
    "\n",
    "with open(\"example.txt\", \"r\") as f:\n",
    "    for line in f:\n",
    "        count += line.count(word)\n",
    "\n",
    "print(f\"The word '{word}' occurs {count} times.\")\n"
   ]
  },
  {
   "cell_type": "markdown",
   "id": "2566a269",
   "metadata": {},
   "source": [
    "22.a. How can you check if a file is empty before attempting to read its contents?"
   ]
  },
  {
   "cell_type": "code",
   "execution_count": 18,
   "id": "8b3ff2b0",
   "metadata": {},
   "outputs": [
    {
     "name": "stdout",
     "output_type": "stream",
     "text": [
      "Diwali, also known as the Festival of Lights, will be celebrated on 21st October 2025 with great joy and enthusiasm.\n",
      "It marks the victory of light over darkness and good over evil. \n",
      "People decorate their homes with diyas, candles, and colorful rangolis. \n",
      "Families exchange sweets, gifts, and share happiness with loved ones. \n",
      "On this day, Lord Ramaâ€™s return to Ayodhya is remembered, and Goddess Lakshmi is worshipped for wealth and prosperity. \n",
      "Diwali brings unity, positivity, and a spirit of togetherness among all.\n",
      "This is appended text.\n"
     ]
    }
   ],
   "source": [
    "import os\n",
    "\n",
    "file = \"example.txt\"\n",
    "\n",
    "if os.path.getsize(file) == 0:\n",
    "    print(\"File is empty.\")\n",
    "else:\n",
    "    with open(file, \"r\") as f:\n",
    "        print(f.read())\n"
   ]
  },
  {
   "cell_type": "markdown",
   "id": "57b81bbd",
   "metadata": {},
   "source": [
    "22.b"
   ]
  },
  {
   "cell_type": "code",
   "execution_count": 19,
   "id": "d8ef4f33",
   "metadata": {},
   "outputs": [
    {
     "name": "stdout",
     "output_type": "stream",
     "text": [
      "File is empty.\n"
     ]
    }
   ],
   "source": [
    "import os\n",
    "\n",
    "file = \"empty.txt\"\n",
    "\n",
    "if os.path.getsize(file) == 0:\n",
    "    print(\"File is empty.\")\n",
    "else:\n",
    "    with open(file, \"r\") as f:\n",
    "        print(f.read())\n"
   ]
  },
  {
   "cell_type": "markdown",
   "id": "d3699c65",
   "metadata": {},
   "source": [
    "23. Write a Python program that writes to a log file when an error occurs during file handling."
   ]
  },
  {
   "cell_type": "code",
   "execution_count": 21,
   "id": "412e070e",
   "metadata": {},
   "outputs": [
    {
     "name": "stdout",
     "output_type": "stream",
     "text": [
      "Error logged successfully.\n"
     ]
    }
   ],
   "source": [
    "import logging\n",
    "\n",
    "logging.basicConfig(filename=\"file_errors.log\", level=logging.ERROR)\n",
    "\n",
    "try:\n",
    "    with open(\"nofile.txt\", \"r\") as f:\n",
    "        print(f.read())\n",
    "except FileNotFoundError:\n",
    "    logging.error(\"Attempted to open a non-existent file.\")\n",
    "    print(\"Error logged successfully.\")\n"
   ]
  }
 ],
 "metadata": {
  "kernelspec": {
   "display_name": "Python 3",
   "language": "python",
   "name": "python3"
  },
  "language_info": {
   "codemirror_mode": {
    "name": "ipython",
    "version": 3
   },
   "file_extension": ".py",
   "mimetype": "text/x-python",
   "name": "python",
   "nbconvert_exporter": "python",
   "pygments_lexer": "ipython3",
   "version": "3.13.7"
  }
 },
 "nbformat": 4,
 "nbformat_minor": 5
}
